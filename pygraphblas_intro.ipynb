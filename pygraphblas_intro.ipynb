{
  "nbformat": 4,
  "nbformat_minor": 0,
  "metadata": {
    "colab": {
      "provenance": []
    },
    "kernelspec": {
      "name": "python3",
      "display_name": "Python 3"
    },
    "language_info": {
      "name": "python"
    }
  },
  "cells": [
    {
      "cell_type": "code",
      "execution_count": 1,
      "metadata": {
        "colab": {
          "base_uri": "https://localhost:8080/"
        },
        "id": "KMSEICQdIDXp",
        "outputId": "611f2a39-4b51-4bb0-e8dd-3cb9c9d9a4c7"
      },
      "outputs": [
        {
          "output_type": "stream",
          "name": "stdout",
          "text": [
            "Looking in indexes: https://pypi.org/simple, https://us-python.pkg.dev/colab-wheels/public/simple/\n",
            "Collecting pygraphblas\n",
            "  Downloading pygraphblas-5.1.8.0.tar.gz (73 kB)\n",
            "\u001b[2K     \u001b[90m━━━━━━━━━━━━━━━━━━━━━━━━━━━━━━━━━━━━━━━━\u001b[0m \u001b[32m73.2/73.2 KB\u001b[0m \u001b[31m2.3 MB/s\u001b[0m eta \u001b[36m0:00:00\u001b[0m\n",
            "\u001b[?25h  Preparing metadata (setup.py) ... \u001b[?25l\u001b[?25hdone\n",
            "Collecting numpy<1.21\n",
            "  Downloading numpy-1.20.3-cp38-cp38-manylinux_2_12_x86_64.manylinux2010_x86_64.whl (15.4 MB)\n",
            "\u001b[2K     \u001b[90m━━━━━━━━━━━━━━━━━━━━━━━━━━━━━━━━━━━━━━━━\u001b[0m \u001b[32m15.4/15.4 MB\u001b[0m \u001b[31m44.0 MB/s\u001b[0m eta \u001b[36m0:00:00\u001b[0m\n",
            "\u001b[?25hRequirement already satisfied: numba in /usr/local/lib/python3.8/dist-packages (from pygraphblas) (0.56.4)\n",
            "Collecting suitesparse-graphblas\n",
            "  Downloading suitesparse_graphblas-7.4.3.0-cp38-cp38-manylinux_2_17_x86_64.manylinux2014_x86_64.whl (71.4 MB)\n",
            "\u001b[2K     \u001b[90m━━━━━━━━━━━━━━━━━━━━━━━━━━━━━━━━━━━━━━━━\u001b[0m \u001b[32m71.4/71.4 MB\u001b[0m \u001b[31m6.8 MB/s\u001b[0m eta \u001b[36m0:00:00\u001b[0m\n",
            "\u001b[?25hRequirement already satisfied: scipy in /usr/local/lib/python3.8/dist-packages (from pygraphblas) (1.7.3)\n",
            "Collecting contextvars\n",
            "  Downloading contextvars-2.4.tar.gz (9.6 kB)\n",
            "  Preparing metadata (setup.py) ... \u001b[?25l\u001b[?25hdone\n",
            "Collecting mmparse\n",
            "  Downloading mmparse-0.6.tar.gz (1.7 kB)\n",
            "  Preparing metadata (setup.py) ... \u001b[?25l\u001b[?25hdone\n",
            "Collecting ssgetpy\n",
            "  Downloading ssgetpy-1.0rc2-py3-none-any.whl (13 kB)\n",
            "Collecting lazy-property\n",
            "  Downloading lazy_property-0.0.1-py2.py3-none-any.whl (2.4 kB)\n",
            "Collecting immutables>=0.9\n",
            "  Downloading immutables-0.19-cp38-cp38-manylinux_2_5_x86_64.manylinux1_x86_64.manylinux_2_17_x86_64.manylinux2014_x86_64.whl (124 kB)\n",
            "\u001b[2K     \u001b[90m━━━━━━━━━━━━━━━━━━━━━━━━━━━━━━━━━━━━━━━\u001b[0m \u001b[32m124.4/124.4 KB\u001b[0m \u001b[31m6.1 MB/s\u001b[0m eta \u001b[36m0:00:00\u001b[0m\n",
            "\u001b[?25hRequirement already satisfied: llvmlite<0.40,>=0.39.0dev0 in /usr/local/lib/python3.8/dist-packages (from numba->pygraphblas) (0.39.1)\n",
            "Requirement already satisfied: setuptools in /usr/local/lib/python3.8/dist-packages (from numba->pygraphblas) (57.4.0)\n",
            "Requirement already satisfied: importlib-metadata in /usr/local/lib/python3.8/dist-packages (from numba->pygraphblas) (6.0.0)\n",
            "Requirement already satisfied: tqdm>=4.41 in /usr/local/lib/python3.8/dist-packages (from ssgetpy->pygraphblas) (4.64.1)\n",
            "Requirement already satisfied: requests>=2.22 in /usr/local/lib/python3.8/dist-packages (from ssgetpy->pygraphblas) (2.25.1)\n",
            "Requirement already satisfied: cffi>=1.0.0 in /usr/local/lib/python3.8/dist-packages (from suitesparse-graphblas->pygraphblas) (1.15.1)\n",
            "Requirement already satisfied: pycparser in /usr/local/lib/python3.8/dist-packages (from cffi>=1.0.0->suitesparse-graphblas->pygraphblas) (2.21)\n",
            "Requirement already satisfied: certifi>=2017.4.17 in /usr/local/lib/python3.8/dist-packages (from requests>=2.22->ssgetpy->pygraphblas) (2022.12.7)\n",
            "Requirement already satisfied: chardet<5,>=3.0.2 in /usr/local/lib/python3.8/dist-packages (from requests>=2.22->ssgetpy->pygraphblas) (4.0.0)\n",
            "Requirement already satisfied: idna<3,>=2.5 in /usr/local/lib/python3.8/dist-packages (from requests>=2.22->ssgetpy->pygraphblas) (2.10)\n",
            "Requirement already satisfied: urllib3<1.27,>=1.21.1 in /usr/local/lib/python3.8/dist-packages (from requests>=2.22->ssgetpy->pygraphblas) (1.24.3)\n",
            "Requirement already satisfied: zipp>=0.5 in /usr/local/lib/python3.8/dist-packages (from importlib-metadata->numba->pygraphblas) (3.12.0)\n",
            "Building wheels for collected packages: pygraphblas, contextvars, mmparse\n",
            "  Building wheel for pygraphblas (setup.py) ... \u001b[?25l\u001b[?25hdone\n",
            "  Created wheel for pygraphblas: filename=pygraphblas-5.1.8.0-py3-none-any.whl size=62036 sha256=8cc05f68507f1a95ae1cb9c550861da46e69c2a3ebdafa6182897b2989a1f86c\n",
            "  Stored in directory: /root/.cache/pip/wheels/08/b1/87/ad45b9923ff4c9b330403da02dea5b9ac492d5172ee23c446d\n",
            "  Building wheel for contextvars (setup.py) ... \u001b[?25l\u001b[?25hdone\n",
            "  Created wheel for contextvars: filename=contextvars-2.4-py3-none-any.whl size=7680 sha256=fb2dbddb62848180abe652d0afdd2fcf02d3d26627fdf8b0db1a8333e982c51d\n",
            "  Stored in directory: /root/.cache/pip/wheels/b7/34/d6/604b7f4529e12cb393cb90710ebe797654cb77737f7bbc2fd4\n",
            "  Building wheel for mmparse (setup.py) ... \u001b[?25l\u001b[?25hdone\n",
            "  Created wheel for mmparse: filename=mmparse-0.6-py3-none-any.whl size=2355 sha256=17da4118385119da3000a41835b701598b32b82da8230c32e7d336dd9e33c85c\n",
            "  Stored in directory: /root/.cache/pip/wheels/d4/c2/95/a91dd9e83b1e2a2652282aa058039b46b3f546b5236baac868\n",
            "Successfully built pygraphblas contextvars mmparse\n",
            "Installing collected packages: mmparse, lazy-property, numpy, immutables, suitesparse-graphblas, ssgetpy, contextvars, pygraphblas\n",
            "  Attempting uninstall: numpy\n",
            "    Found existing installation: numpy 1.21.6\n",
            "    Uninstalling numpy-1.21.6:\n",
            "      Successfully uninstalled numpy-1.21.6\n",
            "\u001b[31mERROR: pip's dependency resolver does not currently take into account all the packages that are installed. This behaviour is the source of the following dependency conflicts.\n",
            "cmdstanpy 1.1.0 requires numpy>=1.21, but you have numpy 1.20.3 which is incompatible.\u001b[0m\u001b[31m\n",
            "\u001b[0mSuccessfully installed contextvars-2.4 immutables-0.19 lazy-property-0.0.1 mmparse-0.6 numpy-1.20.3 pygraphblas-5.1.8.0 ssgetpy-1.0rc2 suitesparse-graphblas-7.4.3.0\n"
          ]
        }
      ],
      "source": [
        "!pip install pygraphblas"
      ]
    },
    {
      "cell_type": "code",
      "source": [
        "from pygraphblas import *\n",
        "from pygraphblas.gviz import draw, draw_matrix_op, draw_graph_op"
      ],
      "metadata": {
        "id": "WZYNTlDpIHNn"
      },
      "execution_count": 2,
      "outputs": []
    },
    {
      "cell_type": "code",
      "source": [
        "A = Matrix.from_lists(\n",
        "    [0, 0, 1, 3, 3, 4, 1, 5],\n",
        "    [1, 3, 2, 4, 5, 2, 5, 4],\n",
        "    [9, 3, 8, 6, 1, 4, 7, 2],)"
      ],
      "metadata": {
        "id": "s5gy1_O_IJVA"
      },
      "execution_count": 3,
      "outputs": []
    },
    {
      "cell_type": "code",
      "source": [
        "# this tells you the indegrees of a node \n",
        "v = Vector.from_lists([4],[True], A.nrows)\n",
        "draw_graph_op(A, '@', v, A @ v)"
      ],
      "metadata": {
        "colab": {
          "base_uri": "https://localhost:8080/",
          "height": 500
        },
        "id": "La56FAsHILPZ",
        "outputId": "b73bd022-39d7-467c-9201-58fbe0d085ce"
      },
      "execution_count": 4,
      "outputs": [
        {
          "output_type": "execute_result",
          "data": {
            "text/plain": [
              "<graphviz.dot.Digraph at 0x7f82eefb4370>"
            ],
            "image/svg+xml": "<?xml version=\"1.0\" encoding=\"UTF-8\" standalone=\"no\"?>\n<!DOCTYPE svg PUBLIC \"-//W3C//DTD SVG 1.1//EN\"\n \"http://www.w3.org/Graphics/SVG/1.1/DTD/svg11.dtd\">\n<!-- Generated by graphviz version 2.43.0 (0)\n -->\n<!-- Title: %3 Pages: 1 -->\n<svg width=\"477pt\" height=\"359pt\"\n viewBox=\"0.00 0.00 477.00 359.00\" xmlns=\"http://www.w3.org/2000/svg\" xmlns:xlink=\"http://www.w3.org/1999/xlink\">\n<g id=\"graph0\" class=\"graph\" transform=\"scale(1 1) rotate(0) translate(4 355)\">\n<title>%3</title>\n<polygon fill=\"white\" stroke=\"transparent\" points=\"-4,4 -4,-355 473,-355 473,4 -4,4\"/>\n<g id=\"clust2\" class=\"cluster\">\n<title>cluster_right</title>\n<polygon fill=\"none\" stroke=\"black\" points=\"179,-291 179,-343 263,-343 263,-291 179,-291\"/>\n</g>\n<g id=\"clust1\" class=\"cluster\">\n<title>cluster_left</title>\n<polygon fill=\"none\" stroke=\"black\" points=\"8,-8 8,-343 123,-343 123,-8 8,-8\"/>\n</g>\n<g id=\"clust3\" class=\"cluster\">\n<title>cluster_result</title>\n<polygon fill=\"none\" stroke=\"black\" points=\"319,-291 319,-343 461,-343 461,-291 319,-291\"/>\n</g>\n<!-- 6 -->\n<g id=\"node1\" class=\"node\">\n<title>6</title>\n<ellipse fill=\"none\" stroke=\"black\" cx=\"43\" cy=\"-317\" rx=\"18\" ry=\"18\"/>\n<text text-anchor=\"middle\" x=\"43\" y=\"-313.3\" font-family=\"Times,serif\" font-size=\"14.00\">0</text>\n</g>\n<!-- 7 -->\n<g id=\"node2\" class=\"node\">\n<title>7</title>\n<ellipse fill=\"none\" stroke=\"black\" cx=\"43\" cy=\"-241\" rx=\"18\" ry=\"18\"/>\n<text text-anchor=\"middle\" x=\"43\" y=\"-237.3\" font-family=\"Times,serif\" font-size=\"14.00\">1</text>\n</g>\n<!-- 6&#45;&gt;7 -->\n<g id=\"edge1\" class=\"edge\">\n<title>6&#45;&gt;7</title>\n<g id=\"a_edge1\"><a xlink:title=\"9\">\n<path fill=\"none\" stroke=\"black\" d=\"M43,-298.84C43,-290.06 43,-279.16 43,-269.27\"/>\n<polygon fill=\"black\" stroke=\"black\" points=\"46.5,-269.07 43,-259.07 39.5,-269.07 46.5,-269.07\"/>\n</a>\n</g>\n<text text-anchor=\"middle\" x=\"46.5\" y=\"-271.8\" font-family=\"Times,serif\" font-size=\"14.00\">9</text>\n</g>\n<!-- 9 -->\n<g id=\"node3\" class=\"node\">\n<title>9</title>\n<ellipse fill=\"none\" stroke=\"black\" cx=\"97\" cy=\"-241\" rx=\"18\" ry=\"18\"/>\n<text text-anchor=\"middle\" x=\"97\" y=\"-237.3\" font-family=\"Times,serif\" font-size=\"14.00\">3</text>\n</g>\n<!-- 6&#45;&gt;9 -->\n<g id=\"edge2\" class=\"edge\">\n<title>6&#45;&gt;9</title>\n<g id=\"a_edge2\"><a xlink:title=\"3\">\n<path fill=\"none\" stroke=\"black\" d=\"M53.16,-302.08C60.88,-291.5 71.65,-276.73 80.59,-264.48\"/>\n<polygon fill=\"black\" stroke=\"black\" points=\"83.64,-266.25 86.7,-256.11 77.98,-262.12 83.64,-266.25\"/>\n</a>\n</g>\n<text text-anchor=\"middle\" x=\"80.5\" y=\"-271.8\" font-family=\"Times,serif\" font-size=\"14.00\">3</text>\n</g>\n<!-- 8 -->\n<g id=\"node4\" class=\"node\">\n<title>8</title>\n<ellipse fill=\"none\" stroke=\"black\" cx=\"34\" cy=\"-34\" rx=\"18\" ry=\"18\"/>\n<text text-anchor=\"middle\" x=\"34\" y=\"-30.3\" font-family=\"Times,serif\" font-size=\"14.00\">2</text>\n</g>\n<!-- 7&#45;&gt;8 -->\n<g id=\"edge3\" class=\"edge\">\n<title>7&#45;&gt;8</title>\n<g id=\"a_edge3\"><a xlink:title=\"8\">\n<path fill=\"none\" stroke=\"black\" d=\"M36.52,-224.09C32.92,-214.42 28.83,-201.71 27,-190 20.05,-145.48 25.17,-92.96 29.56,-61.91\"/>\n<polygon fill=\"black\" stroke=\"black\" points=\"33.04,-62.27 31.06,-51.86 26.12,-61.24 33.04,-62.27\"/>\n</a>\n</g>\n<text text-anchor=\"middle\" x=\"27.5\" y=\"-133.8\" font-family=\"Times,serif\" font-size=\"14.00\">8</text>\n</g>\n<!-- 11 -->\n<g id=\"node5\" class=\"node\">\n<title>11</title>\n<ellipse fill=\"none\" stroke=\"black\" cx=\"54\" cy=\"-172\" rx=\"18\" ry=\"18\"/>\n<text text-anchor=\"middle\" x=\"54\" y=\"-168.3\" font-family=\"Times,serif\" font-size=\"14.00\">5</text>\n</g>\n<!-- 7&#45;&gt;11 -->\n<g id=\"edge4\" class=\"edge\">\n<title>7&#45;&gt;11</title>\n<g id=\"a_edge4\"><a xlink:title=\"7\">\n<path fill=\"none\" stroke=\"black\" d=\"M45.78,-223.09C46.91,-216.16 48.26,-207.97 49.53,-200.23\"/>\n<polygon fill=\"black\" stroke=\"black\" points=\"53.02,-200.57 51.19,-190.13 46.11,-199.44 53.02,-200.57\"/>\n</a>\n</g>\n<text text-anchor=\"middle\" x=\"52.5\" y=\"-202.8\" font-family=\"Times,serif\" font-size=\"14.00\">7</text>\n</g>\n<!-- 9&#45;&gt;11 -->\n<g id=\"edge6\" class=\"edge\">\n<title>9&#45;&gt;11</title>\n<g id=\"a_edge6\"><a xlink:title=\"1\">\n<path fill=\"none\" stroke=\"black\" d=\"M87.67,-225.46C82.15,-216.86 75.03,-205.77 68.76,-196\"/>\n<polygon fill=\"black\" stroke=\"black\" points=\"71.66,-194.04 63.31,-187.51 65.77,-197.82 71.66,-194.04\"/>\n</a>\n</g>\n<text text-anchor=\"middle\" x=\"82.5\" y=\"-202.8\" font-family=\"Times,serif\" font-size=\"14.00\">1</text>\n</g>\n<!-- 10 -->\n<g id=\"node6\" class=\"node\">\n<title>10</title>\n<ellipse fill=\"none\" stroke=\"black\" cx=\"83\" cy=\"-103\" rx=\"18\" ry=\"18\"/>\n<text text-anchor=\"middle\" x=\"83\" y=\"-99.3\" font-family=\"Times,serif\" font-size=\"14.00\">4</text>\n</g>\n<!-- 9&#45;&gt;10 -->\n<g id=\"edge5\" class=\"edge\">\n<title>9&#45;&gt;10</title>\n<g id=\"a_edge5\"><a xlink:title=\"6\">\n<path fill=\"none\" stroke=\"black\" d=\"M95.26,-223.05C92.89,-200.04 88.63,-158.66 85.81,-131.26\"/>\n<polygon fill=\"black\" stroke=\"black\" points=\"89.27,-130.75 84.77,-121.16 82.31,-131.47 89.27,-130.75\"/>\n</a>\n</g>\n<text text-anchor=\"middle\" x=\"94.5\" y=\"-168.3\" font-family=\"Times,serif\" font-size=\"14.00\">6</text>\n</g>\n<!-- 11&#45;&gt;10 -->\n<g id=\"edge8\" class=\"edge\">\n<title>11&#45;&gt;10</title>\n<g id=\"a_edge8\"><a xlink:title=\"2\">\n<path fill=\"none\" stroke=\"black\" d=\"M60.87,-155.12C64.23,-147.36 68.35,-137.84 72.13,-129.12\"/>\n<polygon fill=\"black\" stroke=\"black\" points=\"75.42,-130.33 76.18,-119.76 68.99,-127.55 75.42,-130.33\"/>\n</a>\n</g>\n<text text-anchor=\"middle\" x=\"74.5\" y=\"-133.8\" font-family=\"Times,serif\" font-size=\"14.00\">2</text>\n</g>\n<!-- 10&#45;&gt;8 -->\n<g id=\"edge7\" class=\"edge\">\n<title>10&#45;&gt;8</title>\n<g id=\"a_edge7\"><a xlink:title=\"4\">\n<path fill=\"none\" stroke=\"black\" d=\"M72.85,-88.12C66.36,-79.25 57.81,-67.56 50.38,-57.4\"/>\n<polygon fill=\"black\" stroke=\"black\" points=\"53.21,-55.33 44.48,-49.33 47.56,-59.46 53.21,-55.33\"/>\n</a>\n</g>\n<text text-anchor=\"middle\" x=\"65.5\" y=\"-64.8\" font-family=\"Times,serif\" font-size=\"14.00\">4</text>\n</g>\n<!-- @ -->\n<g id=\"node7\" class=\"node\">\n<title>@</title>\n<ellipse fill=\"none\" stroke=\"black\" cx=\"150\" cy=\"-317\" rx=\"18.7\" ry=\"18\"/>\n<text text-anchor=\"middle\" x=\"150\" y=\"-313.3\" font-family=\"Times,serif\" font-size=\"14.00\">@</text>\n</g>\n<!-- 16 -->\n<g id=\"node8\" class=\"node\">\n<title>16</title>\n<ellipse fill=\"none\" stroke=\"black\" cx=\"221\" cy=\"-317\" rx=\"34.39\" ry=\"18\"/>\n<text text-anchor=\"middle\" x=\"221\" y=\"-313.3\" font-family=\"Times,serif\" font-size=\"14.00\">4:True</text>\n</g>\n<!-- = -->\n<g id=\"node9\" class=\"node\">\n<title>=</title>\n<ellipse fill=\"none\" stroke=\"black\" cx=\"291\" cy=\"-317\" rx=\"18\" ry=\"18\"/>\n<text text-anchor=\"middle\" x=\"291\" y=\"-313.3\" font-family=\"Times,serif\" font-size=\"14.00\">=</text>\n</g>\n<!-- 21 -->\n<g id=\"node10\" class=\"node\">\n<title>21</title>\n<ellipse fill=\"none\" stroke=\"black\" cx=\"426\" cy=\"-317\" rx=\"27\" ry=\"18\"/>\n<text text-anchor=\"middle\" x=\"426\" y=\"-313.3\" font-family=\"Times,serif\" font-size=\"14.00\">3:6</text>\n</g>\n<!-- 23 -->\n<g id=\"node11\" class=\"node\">\n<title>23</title>\n<ellipse fill=\"none\" stroke=\"black\" cx=\"354\" cy=\"-317\" rx=\"27\" ry=\"18\"/>\n<text text-anchor=\"middle\" x=\"354\" y=\"-313.3\" font-family=\"Times,serif\" font-size=\"14.00\">5:2</text>\n</g>\n</g>\n</svg>\n"
          },
          "metadata": {},
          "execution_count": 4
        }
      ]
    },
    {
      "cell_type": "code",
      "source": [
        "# this tells you the outdegrees/ie neighbors of a node ie the first step of bfs\n",
        "v = Vector.from_lists([3],[True], A.nrows)\n",
        "\n",
        "draw_graph_op(A, '@', v, A.transpose() @ v) #transpose of the adjacency matrix "
      ],
      "metadata": {
        "colab": {
          "base_uri": "https://localhost:8080/",
          "height": 500
        },
        "id": "hQ_vpVNsIMhZ",
        "outputId": "767cfcab-5619-4483-9af3-8a06fccf9b06"
      },
      "execution_count": 5,
      "outputs": [
        {
          "output_type": "execute_result",
          "data": {
            "text/plain": [
              "<graphviz.dot.Digraph at 0x7f82eef9f100>"
            ],
            "image/svg+xml": "<?xml version=\"1.0\" encoding=\"UTF-8\" standalone=\"no\"?>\n<!DOCTYPE svg PUBLIC \"-//W3C//DTD SVG 1.1//EN\"\n \"http://www.w3.org/Graphics/SVG/1.1/DTD/svg11.dtd\">\n<!-- Generated by graphviz version 2.43.0 (0)\n -->\n<!-- Title: %3 Pages: 1 -->\n<svg width=\"477pt\" height=\"359pt\"\n viewBox=\"0.00 0.00 477.00 359.00\" xmlns=\"http://www.w3.org/2000/svg\" xmlns:xlink=\"http://www.w3.org/1999/xlink\">\n<g id=\"graph0\" class=\"graph\" transform=\"scale(1 1) rotate(0) translate(4 355)\">\n<title>%3</title>\n<polygon fill=\"white\" stroke=\"transparent\" points=\"-4,4 -4,-355 473,-355 473,4 -4,4\"/>\n<g id=\"clust2\" class=\"cluster\">\n<title>cluster_right</title>\n<polygon fill=\"none\" stroke=\"black\" points=\"179,-291 179,-343 263,-343 263,-291 179,-291\"/>\n</g>\n<g id=\"clust1\" class=\"cluster\">\n<title>cluster_left</title>\n<polygon fill=\"none\" stroke=\"black\" points=\"8,-8 8,-343 123,-343 123,-8 8,-8\"/>\n</g>\n<g id=\"clust3\" class=\"cluster\">\n<title>cluster_result</title>\n<polygon fill=\"none\" stroke=\"black\" points=\"319,-291 319,-343 461,-343 461,-291 319,-291\"/>\n</g>\n<!-- 6 -->\n<g id=\"node1\" class=\"node\">\n<title>6</title>\n<ellipse fill=\"none\" stroke=\"black\" cx=\"43\" cy=\"-317\" rx=\"18\" ry=\"18\"/>\n<text text-anchor=\"middle\" x=\"43\" y=\"-313.3\" font-family=\"Times,serif\" font-size=\"14.00\">0</text>\n</g>\n<!-- 7 -->\n<g id=\"node2\" class=\"node\">\n<title>7</title>\n<ellipse fill=\"none\" stroke=\"black\" cx=\"43\" cy=\"-241\" rx=\"18\" ry=\"18\"/>\n<text text-anchor=\"middle\" x=\"43\" y=\"-237.3\" font-family=\"Times,serif\" font-size=\"14.00\">1</text>\n</g>\n<!-- 6&#45;&gt;7 -->\n<g id=\"edge1\" class=\"edge\">\n<title>6&#45;&gt;7</title>\n<g id=\"a_edge1\"><a xlink:title=\"9\">\n<path fill=\"none\" stroke=\"black\" d=\"M43,-298.84C43,-290.06 43,-279.16 43,-269.27\"/>\n<polygon fill=\"black\" stroke=\"black\" points=\"46.5,-269.07 43,-259.07 39.5,-269.07 46.5,-269.07\"/>\n</a>\n</g>\n<text text-anchor=\"middle\" x=\"46.5\" y=\"-271.8\" font-family=\"Times,serif\" font-size=\"14.00\">9</text>\n</g>\n<!-- 9 -->\n<g id=\"node3\" class=\"node\">\n<title>9</title>\n<ellipse fill=\"none\" stroke=\"black\" cx=\"97\" cy=\"-241\" rx=\"18\" ry=\"18\"/>\n<text text-anchor=\"middle\" x=\"97\" y=\"-237.3\" font-family=\"Times,serif\" font-size=\"14.00\">3</text>\n</g>\n<!-- 6&#45;&gt;9 -->\n<g id=\"edge2\" class=\"edge\">\n<title>6&#45;&gt;9</title>\n<g id=\"a_edge2\"><a xlink:title=\"3\">\n<path fill=\"none\" stroke=\"black\" d=\"M53.16,-302.08C60.88,-291.5 71.65,-276.73 80.59,-264.48\"/>\n<polygon fill=\"black\" stroke=\"black\" points=\"83.64,-266.25 86.7,-256.11 77.98,-262.12 83.64,-266.25\"/>\n</a>\n</g>\n<text text-anchor=\"middle\" x=\"80.5\" y=\"-271.8\" font-family=\"Times,serif\" font-size=\"14.00\">3</text>\n</g>\n<!-- 8 -->\n<g id=\"node4\" class=\"node\">\n<title>8</title>\n<ellipse fill=\"none\" stroke=\"black\" cx=\"34\" cy=\"-34\" rx=\"18\" ry=\"18\"/>\n<text text-anchor=\"middle\" x=\"34\" y=\"-30.3\" font-family=\"Times,serif\" font-size=\"14.00\">2</text>\n</g>\n<!-- 7&#45;&gt;8 -->\n<g id=\"edge3\" class=\"edge\">\n<title>7&#45;&gt;8</title>\n<g id=\"a_edge3\"><a xlink:title=\"8\">\n<path fill=\"none\" stroke=\"black\" d=\"M36.52,-224.09C32.92,-214.42 28.83,-201.71 27,-190 20.05,-145.48 25.17,-92.96 29.56,-61.91\"/>\n<polygon fill=\"black\" stroke=\"black\" points=\"33.04,-62.27 31.06,-51.86 26.12,-61.24 33.04,-62.27\"/>\n</a>\n</g>\n<text text-anchor=\"middle\" x=\"27.5\" y=\"-133.8\" font-family=\"Times,serif\" font-size=\"14.00\">8</text>\n</g>\n<!-- 11 -->\n<g id=\"node5\" class=\"node\">\n<title>11</title>\n<ellipse fill=\"none\" stroke=\"black\" cx=\"54\" cy=\"-172\" rx=\"18\" ry=\"18\"/>\n<text text-anchor=\"middle\" x=\"54\" y=\"-168.3\" font-family=\"Times,serif\" font-size=\"14.00\">5</text>\n</g>\n<!-- 7&#45;&gt;11 -->\n<g id=\"edge4\" class=\"edge\">\n<title>7&#45;&gt;11</title>\n<g id=\"a_edge4\"><a xlink:title=\"7\">\n<path fill=\"none\" stroke=\"black\" d=\"M45.78,-223.09C46.91,-216.16 48.26,-207.97 49.53,-200.23\"/>\n<polygon fill=\"black\" stroke=\"black\" points=\"53.02,-200.57 51.19,-190.13 46.11,-199.44 53.02,-200.57\"/>\n</a>\n</g>\n<text text-anchor=\"middle\" x=\"52.5\" y=\"-202.8\" font-family=\"Times,serif\" font-size=\"14.00\">7</text>\n</g>\n<!-- 9&#45;&gt;11 -->\n<g id=\"edge6\" class=\"edge\">\n<title>9&#45;&gt;11</title>\n<g id=\"a_edge6\"><a xlink:title=\"1\">\n<path fill=\"none\" stroke=\"black\" d=\"M87.67,-225.46C82.15,-216.86 75.03,-205.77 68.76,-196\"/>\n<polygon fill=\"black\" stroke=\"black\" points=\"71.66,-194.04 63.31,-187.51 65.77,-197.82 71.66,-194.04\"/>\n</a>\n</g>\n<text text-anchor=\"middle\" x=\"82.5\" y=\"-202.8\" font-family=\"Times,serif\" font-size=\"14.00\">1</text>\n</g>\n<!-- 10 -->\n<g id=\"node6\" class=\"node\">\n<title>10</title>\n<ellipse fill=\"none\" stroke=\"black\" cx=\"83\" cy=\"-103\" rx=\"18\" ry=\"18\"/>\n<text text-anchor=\"middle\" x=\"83\" y=\"-99.3\" font-family=\"Times,serif\" font-size=\"14.00\">4</text>\n</g>\n<!-- 9&#45;&gt;10 -->\n<g id=\"edge5\" class=\"edge\">\n<title>9&#45;&gt;10</title>\n<g id=\"a_edge5\"><a xlink:title=\"6\">\n<path fill=\"none\" stroke=\"black\" d=\"M95.26,-223.05C92.89,-200.04 88.63,-158.66 85.81,-131.26\"/>\n<polygon fill=\"black\" stroke=\"black\" points=\"89.27,-130.75 84.77,-121.16 82.31,-131.47 89.27,-130.75\"/>\n</a>\n</g>\n<text text-anchor=\"middle\" x=\"94.5\" y=\"-168.3\" font-family=\"Times,serif\" font-size=\"14.00\">6</text>\n</g>\n<!-- 11&#45;&gt;10 -->\n<g id=\"edge8\" class=\"edge\">\n<title>11&#45;&gt;10</title>\n<g id=\"a_edge8\"><a xlink:title=\"2\">\n<path fill=\"none\" stroke=\"black\" d=\"M60.87,-155.12C64.23,-147.36 68.35,-137.84 72.13,-129.12\"/>\n<polygon fill=\"black\" stroke=\"black\" points=\"75.42,-130.33 76.18,-119.76 68.99,-127.55 75.42,-130.33\"/>\n</a>\n</g>\n<text text-anchor=\"middle\" x=\"74.5\" y=\"-133.8\" font-family=\"Times,serif\" font-size=\"14.00\">2</text>\n</g>\n<!-- 10&#45;&gt;8 -->\n<g id=\"edge7\" class=\"edge\">\n<title>10&#45;&gt;8</title>\n<g id=\"a_edge7\"><a xlink:title=\"4\">\n<path fill=\"none\" stroke=\"black\" d=\"M72.85,-88.12C66.36,-79.25 57.81,-67.56 50.38,-57.4\"/>\n<polygon fill=\"black\" stroke=\"black\" points=\"53.21,-55.33 44.48,-49.33 47.56,-59.46 53.21,-55.33\"/>\n</a>\n</g>\n<text text-anchor=\"middle\" x=\"65.5\" y=\"-64.8\" font-family=\"Times,serif\" font-size=\"14.00\">4</text>\n</g>\n<!-- @ -->\n<g id=\"node7\" class=\"node\">\n<title>@</title>\n<ellipse fill=\"none\" stroke=\"black\" cx=\"150\" cy=\"-317\" rx=\"18.7\" ry=\"18\"/>\n<text text-anchor=\"middle\" x=\"150\" y=\"-313.3\" font-family=\"Times,serif\" font-size=\"14.00\">@</text>\n</g>\n<!-- 15 -->\n<g id=\"node8\" class=\"node\">\n<title>15</title>\n<ellipse fill=\"none\" stroke=\"black\" cx=\"221\" cy=\"-317\" rx=\"34.39\" ry=\"18\"/>\n<text text-anchor=\"middle\" x=\"221\" y=\"-313.3\" font-family=\"Times,serif\" font-size=\"14.00\">3:True</text>\n</g>\n<!-- = -->\n<g id=\"node9\" class=\"node\">\n<title>=</title>\n<ellipse fill=\"none\" stroke=\"black\" cx=\"291\" cy=\"-317\" rx=\"18\" ry=\"18\"/>\n<text text-anchor=\"middle\" x=\"291\" y=\"-313.3\" font-family=\"Times,serif\" font-size=\"14.00\">=</text>\n</g>\n<!-- 22 -->\n<g id=\"node10\" class=\"node\">\n<title>22</title>\n<ellipse fill=\"none\" stroke=\"black\" cx=\"426\" cy=\"-317\" rx=\"27\" ry=\"18\"/>\n<text text-anchor=\"middle\" x=\"426\" y=\"-313.3\" font-family=\"Times,serif\" font-size=\"14.00\">4:6</text>\n</g>\n<!-- 23 -->\n<g id=\"node11\" class=\"node\">\n<title>23</title>\n<ellipse fill=\"none\" stroke=\"black\" cx=\"354\" cy=\"-317\" rx=\"27\" ry=\"18\"/>\n<text text-anchor=\"middle\" x=\"354\" y=\"-313.3\" font-family=\"Times,serif\" font-size=\"14.00\">5:1</text>\n</g>\n</g>\n</svg>\n"
          },
          "metadata": {},
          "execution_count": 5
        }
      ]
    },
    {
      "cell_type": "code",
      "source": [
        "v = Vector.from_lists([3],[True], A.nrows)\n",
        "\n",
        "y = v @ A\n",
        "draw_graph_op(v, '@', A, y) #mathematically same operation as taking the transpose \n",
        " #appending to the vector doesn't work because its of the type boolean"
      ],
      "metadata": {
        "colab": {
          "base_uri": "https://localhost:8080/",
          "height": 500
        },
        "id": "7p-kocK-INsx",
        "outputId": "77c23960-11eb-4eeb-cb1e-48585d598d50"
      },
      "execution_count": 6,
      "outputs": [
        {
          "output_type": "execute_result",
          "data": {
            "text/plain": [
              "<graphviz.dot.Digraph at 0x7f82eefb47c0>"
            ],
            "image/svg+xml": "<?xml version=\"1.0\" encoding=\"UTF-8\" standalone=\"no\"?>\n<!DOCTYPE svg PUBLIC \"-//W3C//DTD SVG 1.1//EN\"\n \"http://www.w3.org/Graphics/SVG/1.1/DTD/svg11.dtd\">\n<!-- Generated by graphviz version 2.43.0 (0)\n -->\n<!-- Title: %3 Pages: 1 -->\n<svg width=\"475pt\" height=\"359pt\"\n viewBox=\"0.00 0.00 475.00 359.00\" xmlns=\"http://www.w3.org/2000/svg\" xmlns:xlink=\"http://www.w3.org/1999/xlink\">\n<g id=\"graph0\" class=\"graph\" transform=\"scale(1 1) rotate(0) translate(4 355)\">\n<title>%3</title>\n<polygon fill=\"white\" stroke=\"transparent\" points=\"-4,4 -4,-355 471,-355 471,4 -4,4\"/>\n<g id=\"clust2\" class=\"cluster\">\n<title>cluster_right</title>\n<polygon fill=\"none\" stroke=\"black\" points=\"148,-8 148,-343 263,-343 263,-8 148,-8\"/>\n</g>\n<g id=\"clust1\" class=\"cluster\">\n<title>cluster_left</title>\n<polygon fill=\"none\" stroke=\"black\" points=\"8,-291 8,-343 92,-343 92,-291 8,-291\"/>\n</g>\n<g id=\"clust3\" class=\"cluster\">\n<title>cluster_result</title>\n<polygon fill=\"none\" stroke=\"black\" points=\"317,-291 317,-343 459,-343 459,-291 317,-291\"/>\n</g>\n<!-- 9 -->\n<g id=\"node1\" class=\"node\">\n<title>9</title>\n<ellipse fill=\"none\" stroke=\"black\" cx=\"50\" cy=\"-317\" rx=\"34.39\" ry=\"18\"/>\n<text text-anchor=\"middle\" x=\"50\" y=\"-313.3\" font-family=\"Times,serif\" font-size=\"14.00\">3:True</text>\n</g>\n<!-- @ -->\n<g id=\"node2\" class=\"node\">\n<title>@</title>\n<ellipse fill=\"none\" stroke=\"black\" cx=\"121\" cy=\"-317\" rx=\"18.7\" ry=\"18\"/>\n<text text-anchor=\"middle\" x=\"121\" y=\"-313.3\" font-family=\"Times,serif\" font-size=\"14.00\">@</text>\n</g>\n<!-- 12 -->\n<g id=\"node3\" class=\"node\">\n<title>12</title>\n<ellipse fill=\"none\" stroke=\"black\" cx=\"183\" cy=\"-317\" rx=\"18\" ry=\"18\"/>\n<text text-anchor=\"middle\" x=\"183\" y=\"-313.3\" font-family=\"Times,serif\" font-size=\"14.00\">0</text>\n</g>\n<!-- 13 -->\n<g id=\"node4\" class=\"node\">\n<title>13</title>\n<ellipse fill=\"none\" stroke=\"black\" cx=\"183\" cy=\"-241\" rx=\"18\" ry=\"18\"/>\n<text text-anchor=\"middle\" x=\"183\" y=\"-237.3\" font-family=\"Times,serif\" font-size=\"14.00\">1</text>\n</g>\n<!-- 12&#45;&gt;13 -->\n<g id=\"edge1\" class=\"edge\">\n<title>12&#45;&gt;13</title>\n<g id=\"a_edge1\"><a xlink:title=\"9\">\n<path fill=\"none\" stroke=\"black\" d=\"M183,-298.84C183,-290.06 183,-279.16 183,-269.27\"/>\n<polygon fill=\"black\" stroke=\"black\" points=\"186.5,-269.07 183,-259.07 179.5,-269.07 186.5,-269.07\"/>\n</a>\n</g>\n<text text-anchor=\"middle\" x=\"186.5\" y=\"-271.8\" font-family=\"Times,serif\" font-size=\"14.00\">9</text>\n</g>\n<!-- 15 -->\n<g id=\"node5\" class=\"node\">\n<title>15</title>\n<ellipse fill=\"none\" stroke=\"black\" cx=\"237\" cy=\"-241\" rx=\"18\" ry=\"18\"/>\n<text text-anchor=\"middle\" x=\"237\" y=\"-237.3\" font-family=\"Times,serif\" font-size=\"14.00\">3</text>\n</g>\n<!-- 12&#45;&gt;15 -->\n<g id=\"edge2\" class=\"edge\">\n<title>12&#45;&gt;15</title>\n<g id=\"a_edge2\"><a xlink:title=\"3\">\n<path fill=\"none\" stroke=\"black\" d=\"M193.16,-302.08C200.88,-291.5 211.65,-276.73 220.59,-264.48\"/>\n<polygon fill=\"black\" stroke=\"black\" points=\"223.64,-266.25 226.7,-256.11 217.98,-262.12 223.64,-266.25\"/>\n</a>\n</g>\n<text text-anchor=\"middle\" x=\"220.5\" y=\"-271.8\" font-family=\"Times,serif\" font-size=\"14.00\">3</text>\n</g>\n<!-- 14 -->\n<g id=\"node6\" class=\"node\">\n<title>14</title>\n<ellipse fill=\"none\" stroke=\"black\" cx=\"174\" cy=\"-34\" rx=\"18\" ry=\"18\"/>\n<text text-anchor=\"middle\" x=\"174\" y=\"-30.3\" font-family=\"Times,serif\" font-size=\"14.00\">2</text>\n</g>\n<!-- 13&#45;&gt;14 -->\n<g id=\"edge3\" class=\"edge\">\n<title>13&#45;&gt;14</title>\n<g id=\"a_edge3\"><a xlink:title=\"8\">\n<path fill=\"none\" stroke=\"black\" d=\"M176.52,-224.09C172.92,-214.42 168.83,-201.71 167,-190 160.05,-145.48 165.17,-92.96 169.56,-61.91\"/>\n<polygon fill=\"black\" stroke=\"black\" points=\"173.04,-62.27 171.06,-51.86 166.12,-61.24 173.04,-62.27\"/>\n</a>\n</g>\n<text text-anchor=\"middle\" x=\"167.5\" y=\"-133.8\" font-family=\"Times,serif\" font-size=\"14.00\">8</text>\n</g>\n<!-- 17 -->\n<g id=\"node7\" class=\"node\">\n<title>17</title>\n<ellipse fill=\"none\" stroke=\"black\" cx=\"194\" cy=\"-172\" rx=\"18\" ry=\"18\"/>\n<text text-anchor=\"middle\" x=\"194\" y=\"-168.3\" font-family=\"Times,serif\" font-size=\"14.00\">5</text>\n</g>\n<!-- 13&#45;&gt;17 -->\n<g id=\"edge4\" class=\"edge\">\n<title>13&#45;&gt;17</title>\n<g id=\"a_edge4\"><a xlink:title=\"7\">\n<path fill=\"none\" stroke=\"black\" d=\"M185.78,-223.09C186.91,-216.16 188.26,-207.97 189.53,-200.23\"/>\n<polygon fill=\"black\" stroke=\"black\" points=\"193.02,-200.57 191.19,-190.13 186.11,-199.44 193.02,-200.57\"/>\n</a>\n</g>\n<text text-anchor=\"middle\" x=\"192.5\" y=\"-202.8\" font-family=\"Times,serif\" font-size=\"14.00\">7</text>\n</g>\n<!-- 15&#45;&gt;17 -->\n<g id=\"edge6\" class=\"edge\">\n<title>15&#45;&gt;17</title>\n<g id=\"a_edge6\"><a xlink:title=\"1\">\n<path fill=\"none\" stroke=\"black\" d=\"M227.67,-225.46C222.15,-216.86 215.03,-205.77 208.76,-196\"/>\n<polygon fill=\"black\" stroke=\"black\" points=\"211.66,-194.04 203.31,-187.51 205.77,-197.82 211.66,-194.04\"/>\n</a>\n</g>\n<text text-anchor=\"middle\" x=\"222.5\" y=\"-202.8\" font-family=\"Times,serif\" font-size=\"14.00\">1</text>\n</g>\n<!-- 16 -->\n<g id=\"node8\" class=\"node\">\n<title>16</title>\n<ellipse fill=\"none\" stroke=\"black\" cx=\"223\" cy=\"-103\" rx=\"18\" ry=\"18\"/>\n<text text-anchor=\"middle\" x=\"223\" y=\"-99.3\" font-family=\"Times,serif\" font-size=\"14.00\">4</text>\n</g>\n<!-- 15&#45;&gt;16 -->\n<g id=\"edge5\" class=\"edge\">\n<title>15&#45;&gt;16</title>\n<g id=\"a_edge5\"><a xlink:title=\"6\">\n<path fill=\"none\" stroke=\"black\" d=\"M235.26,-223.05C232.89,-200.04 228.63,-158.66 225.81,-131.26\"/>\n<polygon fill=\"black\" stroke=\"black\" points=\"229.27,-130.75 224.77,-121.16 222.31,-131.47 229.27,-130.75\"/>\n</a>\n</g>\n<text text-anchor=\"middle\" x=\"234.5\" y=\"-168.3\" font-family=\"Times,serif\" font-size=\"14.00\">6</text>\n</g>\n<!-- 17&#45;&gt;16 -->\n<g id=\"edge8\" class=\"edge\">\n<title>17&#45;&gt;16</title>\n<g id=\"a_edge8\"><a xlink:title=\"2\">\n<path fill=\"none\" stroke=\"black\" d=\"M200.87,-155.12C204.23,-147.36 208.35,-137.84 212.13,-129.12\"/>\n<polygon fill=\"black\" stroke=\"black\" points=\"215.42,-130.33 216.18,-119.76 208.99,-127.55 215.42,-130.33\"/>\n</a>\n</g>\n<text text-anchor=\"middle\" x=\"214.5\" y=\"-133.8\" font-family=\"Times,serif\" font-size=\"14.00\">2</text>\n</g>\n<!-- 16&#45;&gt;14 -->\n<g id=\"edge7\" class=\"edge\">\n<title>16&#45;&gt;14</title>\n<g id=\"a_edge7\"><a xlink:title=\"4\">\n<path fill=\"none\" stroke=\"black\" d=\"M212.85,-88.12C206.36,-79.25 197.81,-67.56 190.38,-57.4\"/>\n<polygon fill=\"black\" stroke=\"black\" points=\"193.21,-55.33 184.48,-49.33 187.56,-59.46 193.21,-55.33\"/>\n</a>\n</g>\n<text text-anchor=\"middle\" x=\"205.5\" y=\"-64.8\" font-family=\"Times,serif\" font-size=\"14.00\">4</text>\n</g>\n<!-- = -->\n<g id=\"node9\" class=\"node\">\n<title>=</title>\n<ellipse fill=\"none\" stroke=\"black\" cx=\"289\" cy=\"-317\" rx=\"18\" ry=\"18\"/>\n<text text-anchor=\"middle\" x=\"289\" y=\"-313.3\" font-family=\"Times,serif\" font-size=\"14.00\">=</text>\n</g>\n<!-- 22 -->\n<g id=\"node10\" class=\"node\">\n<title>22</title>\n<ellipse fill=\"none\" stroke=\"black\" cx=\"424\" cy=\"-317\" rx=\"27\" ry=\"18\"/>\n<text text-anchor=\"middle\" x=\"424\" y=\"-313.3\" font-family=\"Times,serif\" font-size=\"14.00\">4:6</text>\n</g>\n<!-- 23 -->\n<g id=\"node11\" class=\"node\">\n<title>23</title>\n<ellipse fill=\"none\" stroke=\"black\" cx=\"352\" cy=\"-317\" rx=\"27\" ry=\"18\"/>\n<text text-anchor=\"middle\" x=\"352\" y=\"-313.3\" font-family=\"Times,serif\" font-size=\"14.00\">5:1</text>\n</g>\n</g>\n</svg>\n"
          },
          "metadata": {},
          "execution_count": 6
        }
      ]
    }
  ]
}